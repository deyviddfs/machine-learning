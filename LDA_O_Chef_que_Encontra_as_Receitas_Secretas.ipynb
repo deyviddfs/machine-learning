{
  "nbformat": 4,
  "nbformat_minor": 0,
  "metadata": {
    "colab": {
      "provenance": []
    },
    "kernelspec": {
      "name": "python3",
      "display_name": "Python 3"
    },
    "language_info": {
      "name": "python"
    }
  },
  "cells": [
    {
      "cell_type": "markdown",
      "source": [
        "Imagine um chef que recebe uma pilha de ingredientes, como farinha, açúcar, carne moída, cebola, e especiarias. Ele não sabe o que fazer com eles, mas ao analisar as combinações, ele percebe que farinha, açúcar e ovos aparecem juntos com frequência, formando a \"receita\" de um bolo. Já carne moída e cebola formam outra \"receita\" de um prato salgado.\n",
        "\n",
        "O LDA (Latent Dirichlet Allocation), no contexto de modelagem de tópicos, é como esse chef. Ele pega uma coleção de textos e, sem ler, descobre os tópicos ocultos (\"as receitas\") que os unem, analisando quais palavras tendem a aparecer juntas.\n",
        "\n",
        "Neste script, vamos usar um pequeno conjunto de frases para ver o LDA encontrar os tópicos por trás delas."
      ],
      "metadata": {
        "id": "Yo8xl--P1c5T"
      }
    },
    {
      "cell_type": "code",
      "source": [
        "!pip install gensim pyLDAvis"
      ],
      "metadata": {
        "colab": {
          "base_uri": "https://localhost:8080/"
        },
        "id": "Gr9JblwY1wTf",
        "outputId": "e33c50ad-e3c4-45c8-f0f5-9cf9ac73d363"
      },
      "execution_count": 1,
      "outputs": [
        {
          "output_type": "stream",
          "name": "stdout",
          "text": [
            "Requirement already satisfied: gensim in /usr/local/lib/python3.11/dist-packages (4.3.3)\n",
            "Requirement already satisfied: pyLDAvis in /usr/local/lib/python3.11/dist-packages (3.4.1)\n",
            "Requirement already satisfied: numpy<2.0,>=1.18.5 in /usr/local/lib/python3.11/dist-packages (from gensim) (1.26.4)\n",
            "Requirement already satisfied: scipy<1.14.0,>=1.7.0 in /usr/local/lib/python3.11/dist-packages (from gensim) (1.13.1)\n",
            "Requirement already satisfied: smart-open>=1.8.1 in /usr/local/lib/python3.11/dist-packages (from gensim) (7.3.0.post1)\n",
            "Requirement already satisfied: pandas>=2.0.0 in /usr/local/lib/python3.11/dist-packages (from pyLDAvis) (2.2.2)\n",
            "Requirement already satisfied: joblib>=1.2.0 in /usr/local/lib/python3.11/dist-packages (from pyLDAvis) (1.5.1)\n",
            "Requirement already satisfied: jinja2 in /usr/local/lib/python3.11/dist-packages (from pyLDAvis) (3.1.6)\n",
            "Requirement already satisfied: numexpr in /usr/local/lib/python3.11/dist-packages (from pyLDAvis) (2.11.0)\n",
            "Requirement already satisfied: funcy in /usr/local/lib/python3.11/dist-packages (from pyLDAvis) (2.0)\n",
            "Requirement already satisfied: scikit-learn>=1.0.0 in /usr/local/lib/python3.11/dist-packages (from pyLDAvis) (1.6.1)\n",
            "Requirement already satisfied: setuptools in /usr/local/lib/python3.11/dist-packages (from pyLDAvis) (75.2.0)\n",
            "Requirement already satisfied: python-dateutil>=2.8.2 in /usr/local/lib/python3.11/dist-packages (from pandas>=2.0.0->pyLDAvis) (2.9.0.post0)\n",
            "Requirement already satisfied: pytz>=2020.1 in /usr/local/lib/python3.11/dist-packages (from pandas>=2.0.0->pyLDAvis) (2025.2)\n",
            "Requirement already satisfied: tzdata>=2022.7 in /usr/local/lib/python3.11/dist-packages (from pandas>=2.0.0->pyLDAvis) (2025.2)\n",
            "Requirement already satisfied: threadpoolctl>=3.1.0 in /usr/local/lib/python3.11/dist-packages (from scikit-learn>=1.0.0->pyLDAvis) (3.6.0)\n",
            "Requirement already satisfied: wrapt in /usr/local/lib/python3.11/dist-packages (from smart-open>=1.8.1->gensim) (1.17.2)\n",
            "Requirement already satisfied: MarkupSafe>=2.0 in /usr/local/lib/python3.11/dist-packages (from jinja2->pyLDAvis) (3.0.2)\n",
            "Requirement already satisfied: six>=1.5 in /usr/local/lib/python3.11/dist-packages (from python-dateutil>=2.8.2->pandas>=2.0.0->pyLDAvis) (1.17.0)\n"
          ]
        }
      ]
    },
    {
      "cell_type": "code",
      "source": [
        "# =================================================================\n",
        "# 1. Configuração e Preparação dos Dados\n",
        "# =================================================================\n",
        "\n",
        "# Importando as bibliotecas necessárias\n",
        "import numpy as np\n",
        "import pandas as pd\n",
        "import nltk\n",
        "from nltk.corpus import stopwords\n",
        "from gensim.corpora.dictionary import Dictionary\n",
        "from gensim.models.ldamodel import LdaModel\n",
        "import pyLDAvis\n",
        "import pyLDAvis.gensim_models as gensimvis\n",
        "import warnings\n",
        "\n",
        "# Baixando os dados de stopwords (palavras comuns como 'a', 'o', 'e')\n",
        "nltk.download('stopwords')\n",
        "warnings.filterwarnings(\"ignore\", category=DeprecationWarning)\n",
        "warnings.filterwarnings(\"ignore\", category=UserWarning)\n",
        "\n",
        "print(\"Passo 1: Definindo os textos para o nosso 'chef' analisar.\")\n",
        "print(\"-\" * 50)\n",
        "\n",
        "# Criando um conjunto de documentos de exemplo\n",
        "documents = [\n",
        "    \"A galáxia de Andrômeda é nossa vizinha mais próxima.\",\n",
        "    \"A Terra é o terceiro planeta do sol e abriga a vida.\",\n",
        "    \"Astrônomos estudam estrelas e planetas usando telescópios.\",\n",
        "    \"O bolo de chocolate é o meu favorito. A receita leva farinha, ovos e açúcar.\",\n",
        "    \"Cozinhar massas e molhos é uma arte na culinária italiana.\",\n",
        "    \"Eu adoro assar biscoitos com manteiga e essência de baunilha.\",\n",
        "    \"Explorando a Lua, a NASA busca segredos sobre o nosso sistema solar.\"\n",
        "]\n",
        "\n",
        "# =================================================================\n",
        "# 2. Pré-processamento dos Textos\n",
        "# =================================================================\n",
        "\n",
        "print(\"\\nPasso 2: Processando os textos para remover palavras irrelevantes.\")\n",
        "print(\"-\" * 50)\n",
        "\n",
        "# Criando uma lista de palavras irrelevantes (stopwords) em português\n",
        "stop_words = set(stopwords.words('portuguese'))\n",
        "\n",
        "def preprocess_text(text):\n",
        "    \"\"\"Função para limpar e tokenizar o texto.\"\"\"\n",
        "    # Quebrando a frase em palavras (tokenização)\n",
        "    words = text.lower().split()\n",
        "    # Removendo stopwords e pontuação\n",
        "    words = [word for word in words if word.isalpha() and word not in stop_words]\n",
        "    return words\n",
        "\n",
        "# Aplicando a função em todos os documentos\n",
        "processed_docs = [preprocess_text(doc) for doc in documents]\n",
        "print(processed_docs)\n",
        "\n",
        "# =================================================================\n",
        "# 3. Preparando os Dados para o LDA\n",
        "# =================================================================\n",
        "\n",
        "print(\"\\nPasso 3: Criando o 'dicionário de ingredientes' e a 'lista de compras'.\")\n",
        "print(\"-\" * 50)\n",
        "\n",
        "# Criando um dicionário que mapeia cada palavra única a um ID\n",
        "id2word = Dictionary(processed_docs)\n",
        "\n",
        "# Criando o Corpus (Bag of Words). Para cada documento, é uma lista de (ID da palavra, contagem).\n",
        "corpus = [id2word.doc2bow(doc) for doc in processed_docs]\n",
        "print(corpus[0]) # Mostrando o primeiro documento como exemplo\n",
        "\n",
        "# =================================================================\n",
        "# 4. Treinando o Modelo LDA\n",
        "# =================================================================\n",
        "\n",
        "print(\"\\nPasso 4: Treinando o nosso 'chef' (o modelo LDA) para encontrar 2 tópicos.\")\n",
        "print(\"-\" * 50)\n",
        "\n",
        "# Criando e treinando o modelo LDA\n",
        "# num_topics: o número de tópicos (receitas) que esperamos encontrar\n",
        "# id2word: o dicionário que criamos\n",
        "# passes: quantas vezes o modelo vai revisar os dados\n",
        "lda_model = LdaModel(corpus=corpus,\n",
        "                     id2word=id2word,\n",
        "                     num_topics=2,\n",
        "                     random_state=42,\n",
        "                     passes=10)\n",
        "\n",
        "# =================================================================\n",
        "# 5. Interpretando os Tópicos\n",
        "# =================================================================\n",
        "\n",
        "print(\"\\nPasso 5: Revelando os tópicos encontrados pelo nosso 'chef'.\")\n",
        "print(\"-\" * 50)\n",
        "\n",
        "# Imprimindo os tópicos\n",
        "topics = lda_model.print_topics(num_words=5) # Mostrando as 5 palavras mais relevantes para cada tópico\n",
        "for topic in topics:\n",
        "    print(topic)\n",
        "\n",
        "print(\"\\nAnalisando a saída:\")\n",
        "print(\"• O **Tópico 0** parece ser sobre **'Ciência e Espaço'**, com palavras como 'planetas', 'galáxia', 'terra'.\")\n",
        "print(\"• O **Tópico 1** parece ser sobre **'Comida e Culinária'**, com palavras como 'bolo', 'massa', 'cozinhar'.\")\n",
        "\n",
        "# =================================================================\n",
        "# 6. Visualizando os Tópicos (O 'Mapa de Sabores')\n",
        "# =================================================================\n",
        "\n",
        "print(\"\\nPasso 6: Gerando uma visualização interativa para explorar os tópicos.\")\n",
        "print(\"-\" * 50)\n",
        "print(\"Aguarde a visualização aparecer. Ela permite explorar as palavras de cada tópico.\")\n",
        "\n",
        "# Gerando a visualização interativa\n",
        "vis = gensimvis.prepare(lda_model, corpus, id2word)\n",
        "\n",
        "# Exibindo a visualização no Colab\n",
        "pyLDAvis.display(vis)"
      ],
      "metadata": {
        "colab": {
          "base_uri": "https://localhost:8080/",
          "height": 1000
        },
        "id": "4PG3CUYl1f-Y",
        "outputId": "a1ffc9b4-a9db-483f-e6c6-4be10ec409ea"
      },
      "execution_count": 2,
      "outputs": [
        {
          "output_type": "stream",
          "name": "stderr",
          "text": [
            "[nltk_data] Downloading package stopwords to /root/nltk_data...\n",
            "[nltk_data]   Unzipping corpora/stopwords.zip.\n"
          ]
        },
        {
          "output_type": "stream",
          "name": "stdout",
          "text": [
            "Passo 1: Definindo os textos para o nosso 'chef' analisar.\n",
            "--------------------------------------------------\n",
            "\n",
            "Passo 2: Processando os textos para remover palavras irrelevantes.\n",
            "--------------------------------------------------\n",
            "[['galáxia', 'andrômeda', 'vizinha'], ['terra', 'terceiro', 'planeta', 'sol', 'abriga'], ['astrônomos', 'estudam', 'estrelas', 'planetas', 'usando'], ['bolo', 'chocolate', 'receita', 'leva', 'ovos'], ['cozinhar', 'massas', 'molhos', 'arte', 'culinária'], ['adoro', 'assar', 'biscoitos', 'manteiga', 'essência'], ['explorando', 'nasa', 'busca', 'segredos', 'sobre', 'sistema']]\n",
            "\n",
            "Passo 3: Criando o 'dicionário de ingredientes' e a 'lista de compras'.\n",
            "--------------------------------------------------\n",
            "[(0, 1), (1, 1), (2, 1)]\n",
            "\n",
            "Passo 4: Treinando o nosso 'chef' (o modelo LDA) para encontrar 2 tópicos.\n",
            "--------------------------------------------------\n",
            "\n",
            "Passo 5: Revelando os tópicos encontrados pelo nosso 'chef'.\n",
            "--------------------------------------------------\n",
            "(0, '0.039*\"sistema\" + 0.039*\"sobre\" + 0.039*\"explorando\" + 0.039*\"nasa\" + 0.039*\"busca\"')\n",
            "(1, '0.050*\"massas\" + 0.050*\"cozinhar\" + 0.050*\"arte\" + 0.050*\"molhos\" + 0.050*\"culinária\"')\n",
            "\n",
            "Analisando a saída:\n",
            "• O **Tópico 0** parece ser sobre **'Ciência e Espaço'**, com palavras como 'planetas', 'galáxia', 'terra'.\n",
            "• O **Tópico 1** parece ser sobre **'Comida e Culinária'**, com palavras como 'bolo', 'massa', 'cozinhar'.\n",
            "\n",
            "Passo 6: Gerando uma visualização interativa para explorar os tópicos.\n",
            "--------------------------------------------------\n",
            "Aguarde a visualização aparecer. Ela permite explorar as palavras de cada tópico.\n"
          ]
        },
        {
          "output_type": "execute_result",
          "data": {
            "text/plain": [
              "<IPython.core.display.HTML object>"
            ],
            "text/html": [
              "\n",
              "<link rel=\"stylesheet\" type=\"text/css\" href=\"https://cdn.jsdelivr.net/gh/bmabey/pyLDAvis@3.4.0/pyLDAvis/js/ldavis.v1.0.0.css\">\n",
              "\n",
              "\n",
              "<div id=\"ldavis_el3188135528532380240803752419\" style=\"background-color:white;\"></div>\n",
              "<script type=\"text/javascript\">\n",
              "\n",
              "var ldavis_el3188135528532380240803752419_data = {\"mdsDat\": {\"x\": [0.06040421571355184, -0.06040421571355184], \"y\": [0.0, 0.0], \"topics\": [1, 2], \"cluster\": [1, 1], \"Freq\": [60.215981171744836, 39.784018828255164]}, \"tinfo\": {\"Term\": [\"massas\", \"cozinhar\", \"arte\", \"molhos\", \"culin\\u00e1ria\", \"estrelas\", \"planetas\", \"estudam\", \"astr\\u00f4nomos\", \"usando\", \"gal\\u00e1xia\", \"andr\\u00f4meda\", \"vizinha\", \"sistema\", \"sobre\", \"explorando\", \"nasa\", \"busca\", \"segredos\", \"ess\\u00eancia\", \"adoro\", \"assar\", \"manteiga\", \"biscoitos\", \"planeta\", \"sol\", \"abriga\", \"terra\", \"terceiro\", \"ovos\", \"sistema\", \"sobre\", \"explorando\", \"nasa\", \"busca\", \"segredos\", \"ess\\u00eancia\", \"adoro\", \"assar\", \"manteiga\", \"biscoitos\", \"planeta\", \"sol\", \"abriga\", \"terra\", \"terceiro\", \"ovos\", \"receita\", \"bolo\", \"leva\", \"chocolate\", \"vizinha\", \"andr\\u00f4meda\", \"gal\\u00e1xia\", \"usando\", \"astr\\u00f4nomos\", \"estudam\", \"planetas\", \"estrelas\", \"culin\\u00e1ria\", \"massas\", \"cozinhar\", \"arte\", \"molhos\", \"culin\\u00e1ria\", \"estrelas\", \"planetas\", \"estudam\", \"astr\\u00f4nomos\", \"usando\", \"gal\\u00e1xia\", \"andr\\u00f4meda\", \"vizinha\", \"chocolate\", \"leva\", \"bolo\", \"receita\", \"ovos\", \"terceiro\", \"terra\", \"abriga\", \"sol\", \"planeta\", \"biscoitos\", \"manteiga\", \"assar\", \"adoro\", \"ess\\u00eancia\", \"segredos\", \"busca\"], \"Freq\": [0.0, 0.0, 0.0, 0.0, 0.0, 0.0, 0.0, 0.0, 0.0, 0.0, 0.0, 0.0, 0.0, 1.0, 1.0, 1.0, 1.0, 1.0, 1.0, 1.0, 1.0, 1.0, 1.0, 1.0, 1.0, 1.0, 1.0, 1.0, 1.0, 1.0, 0.8073015822568452, 0.8072264568150445, 0.8072256941202038, 0.8071664327310879, 0.8071241794369177, 0.8071230353946568, 0.8067842463464547, 0.8066979092904969, 0.8066870027542761, 0.8066538255287092, 0.8066299531801979, 0.8062732408032414, 0.8061027785063635, 0.8059487904180429, 0.8057862601475074, 0.8056808557205342, 0.8032373339901655, 0.8032360374089365, 0.8031765472113683, 0.8030420841109676, 0.8030021189013192, 0.2753035499808476, 0.2750347763190142, 0.274917111572478, 0.2729841949705314, 0.27279933680853685, 0.27269648740927965, 0.2726811191082412, 0.27265520655103126, 0.27258141582520157, 0.6721032014422688, 0.6720595633671971, 0.6720273639099561, 0.6720135065535535, 0.671915295689449, 0.671853920198182, 0.6718324035029677, 0.6718196547350773, 0.6717340918580894, 0.6715804011779875, 0.6699727966641209, 0.6698749889231118, 0.6696514067763537, 0.2308210281813503, 0.23078774533079052, 0.23067602984299182, 0.23062649609265076, 0.2306253623089451, 0.2285934455420299, 0.22850579146398486, 0.22837064444626898, 0.22824262766830208, 0.2281008543147064, 0.2278042313021096, 0.22778432709927673, 0.22775678875282568, 0.2277476680927934, 0.22767598776740158, 0.22739420472375235, 0.22739329769678782], \"Total\": [0.0, 0.0, 0.0, 0.0, 0.0, 0.0, 0.0, 0.0, 0.0, 0.0, 0.0, 0.0, 0.0, 1.0, 1.0, 1.0, 1.0, 1.0, 1.0, 1.0, 1.0, 1.0, 1.0, 1.0, 1.0, 1.0, 1.0, 1.0, 1.0, 1.0, 1.0345473117055417, 1.034534720733907, 1.034534537528516, 1.034524532742613, 1.0345174771337056, 1.034517240118409, 1.0344602341138562, 1.0344455773832903, 1.0344437915071016, 1.034438152627986, 1.0344341844823075, 1.0343740951179479, 1.0343454061746655, 1.0343194348643119, 1.0342920516114922, 1.0342743012625641, 1.0338626962991107, 1.0338625335015872, 1.03385257705436, 1.033829829441758, 1.0338231470826695, 0.9449549567572013, 0.944909765242126, 0.9448899082365989, 0.9445645961485188, 0.9445334286666263, 0.944516142144357, 0.9445135226112089, 0.9445091267492133, 0.9444967115146505, 0.9444587070556796, 0.9444674661161583, 0.9444740687589337, 0.9444767809479435, 0.9444967115146505, 0.9445091267492133, 0.9445135226112089, 0.944516142144357, 0.9445334286666263, 0.9445645961485188, 0.9448899082365989, 0.944909765242126, 0.9449549567572013, 1.0338231470826695, 1.033829829441758, 1.03385257705436, 1.0338625335015872, 1.0338626962991107, 1.0342743012625641, 1.0342920516114922, 1.0343194348643119, 1.0343454061746655, 1.0343740951179479, 1.0344341844823075, 1.034438152627986, 1.0344437915071016, 1.0344455773832903, 1.0344602341138562, 1.034517240118409, 1.0345174771337056], \"Category\": [\"Default\", \"Default\", \"Default\", \"Default\", \"Default\", \"Default\", \"Default\", \"Default\", \"Default\", \"Default\", \"Default\", \"Default\", \"Default\", \"Default\", \"Default\", \"Default\", \"Default\", \"Default\", \"Default\", \"Default\", \"Default\", \"Default\", \"Default\", \"Default\", \"Default\", \"Default\", \"Default\", \"Default\", \"Default\", \"Default\", \"Topic1\", \"Topic1\", \"Topic1\", \"Topic1\", \"Topic1\", \"Topic1\", \"Topic1\", \"Topic1\", \"Topic1\", \"Topic1\", \"Topic1\", \"Topic1\", \"Topic1\", \"Topic1\", \"Topic1\", \"Topic1\", \"Topic1\", \"Topic1\", \"Topic1\", \"Topic1\", \"Topic1\", \"Topic1\", \"Topic1\", \"Topic1\", \"Topic1\", \"Topic1\", \"Topic1\", \"Topic1\", \"Topic1\", \"Topic1\", \"Topic2\", \"Topic2\", \"Topic2\", \"Topic2\", \"Topic2\", \"Topic2\", \"Topic2\", \"Topic2\", \"Topic2\", \"Topic2\", \"Topic2\", \"Topic2\", \"Topic2\", \"Topic2\", \"Topic2\", \"Topic2\", \"Topic2\", \"Topic2\", \"Topic2\", \"Topic2\", \"Topic2\", \"Topic2\", \"Topic2\", \"Topic2\", \"Topic2\", \"Topic2\", \"Topic2\", \"Topic2\", \"Topic2\", \"Topic2\"], \"logprob\": [30.0, 29.0, 28.0, 27.0, 26.0, 25.0, 24.0, 23.0, 22.0, 21.0, 20.0, 19.0, 18.0, 17.0, 16.0, 15.0, 14.0, 13.0, 12.0, 11.0, 10.0, 9.0, 8.0, 7.0, 6.0, 5.0, 4.0, 3.0, 2.0, 1.0, -3.2332, -3.2333, -3.2333, -3.2334, -3.2334, -3.2334, -3.2338, -3.2339, -3.2339, -3.234, -3.234, -3.2345, -3.2347, -3.2349, -3.2351, -3.2352, -3.2382, -3.2382, -3.2383, -3.2385, -3.2385, -4.309, -4.31, -4.3104, -4.3175, -4.3181, -4.3185, -4.3186, -4.3187, -4.3189, -3.002, -3.0021, -3.0021, -3.0021, -3.0023, -3.0024, -3.0024, -3.0024, -3.0025, -3.0028, -3.0052, -3.0053, -3.0057, -4.0708, -4.0709, -4.0714, -4.0716, -4.0716, -4.0805, -4.0808, -4.0814, -4.082, -4.0826, -4.0839, -4.084, -4.0841, -4.0842, -4.0845, -4.0857, -4.0857], \"loglift\": [30.0, 29.0, 28.0, 27.0, 26.0, 25.0, 24.0, 23.0, 22.0, 21.0, 20.0, 19.0, 18.0, 17.0, 16.0, 15.0, 14.0, 13.0, 12.0, 11.0, 10.0, 9.0, 8.0, 7.0, 6.0, 5.0, 4.0, 3.0, 2.0, 1.0, 0.2592, 0.2591, 0.2591, 0.2591, 0.259, 0.259, 0.2587, 0.2586, 0.2585, 0.2585, 0.2585, 0.2581, 0.2579, 0.2578, 0.2576, 0.2575, 0.2548, 0.2548, 0.2548, 0.2546, 0.2546, -0.726, -0.727, -0.7274, -0.7341, -0.7347, -0.7351, -0.7351, -0.7352, -0.7355, 0.5815, 0.5814, 0.5814, 0.5814, 0.5812, 0.5811, 0.581, 0.581, 0.5809, 0.5806, 0.5779, 0.5777, 0.5773, -0.5777, -0.5778, -0.5783, -0.5786, -0.5786, -0.5878, -0.5882, -0.5888, -0.5894, -0.5901, -0.5914, -0.5915, -0.5916, -0.5917, -0.592, -0.5933, -0.5933]}, \"token.table\": {\"Topic\": [1, 1, 2, 2, 1, 2, 1, 1, 1, 1, 2, 2, 1, 2, 2, 1, 2, 1, 1, 2, 2, 1, 1, 1, 2, 1, 1, 1, 1, 1, 1, 1, 2, 2], \"Freq\": [0.9668193077423765, 0.9667014117161938, 1.0583021117828721, 1.0587903184192542, 0.9667030806411242, 1.0587237779521201, 0.9667120586318013, 0.9672558952739544, 0.9666342252338339, 0.9672834302674355, 1.0587977202774415, 1.0587649356622335, 0.9666877150252414, 1.0587510185759388, 1.0587431547010693, 0.9666182845755751, 1.0583243521631533, 0.9672771780438708, 0.9667083502860988, 1.05880753973614, 1.0587872779639214, 0.9666276326467721, 0.9672464279634733, 0.9667682173401411, 1.0587460910410185, 0.9672465802712685, 0.9666344466966463, 0.9666063491590468, 0.9666181133974818, 0.9667950319403597, 0.9668614977470439, 0.9668449046301159, 1.0586888435979076, 1.0582514995547476], \"Term\": [\"abriga\", \"adoro\", \"andr\\u00f4meda\", \"arte\", \"assar\", \"astr\\u00f4nomos\", \"biscoitos\", \"bolo\", \"busca\", \"chocolate\", \"cozinhar\", \"culin\\u00e1ria\", \"ess\\u00eancia\", \"estrelas\", \"estudam\", \"explorando\", \"gal\\u00e1xia\", \"leva\", \"manteiga\", \"massas\", \"molhos\", \"nasa\", \"ovos\", \"planeta\", \"planetas\", \"receita\", \"segredos\", \"sistema\", \"sobre\", \"sol\", \"terceiro\", \"terra\", \"usando\", \"vizinha\"]}, \"R\": 30, \"lambda.step\": 0.01, \"plot.opts\": {\"xlab\": \"PC1\", \"ylab\": \"PC2\"}, \"topic.order\": [1, 2]};\n",
              "\n",
              "function LDAvis_load_lib(url, callback){\n",
              "  var s = document.createElement('script');\n",
              "  s.src = url;\n",
              "  s.async = true;\n",
              "  s.onreadystatechange = s.onload = callback;\n",
              "  s.onerror = function(){console.warn(\"failed to load library \" + url);};\n",
              "  document.getElementsByTagName(\"head\")[0].appendChild(s);\n",
              "}\n",
              "\n",
              "if(typeof(LDAvis) !== \"undefined\"){\n",
              "   // already loaded: just create the visualization\n",
              "   !function(LDAvis){\n",
              "       new LDAvis(\"#\" + \"ldavis_el3188135528532380240803752419\", ldavis_el3188135528532380240803752419_data);\n",
              "   }(LDAvis);\n",
              "}else if(typeof define === \"function\" && define.amd){\n",
              "   // require.js is available: use it to load d3/LDAvis\n",
              "   require.config({paths: {d3: \"https://d3js.org/d3.v5\"}});\n",
              "   require([\"d3\"], function(d3){\n",
              "      window.d3 = d3;\n",
              "      LDAvis_load_lib(\"https://cdn.jsdelivr.net/gh/bmabey/pyLDAvis@3.4.0/pyLDAvis/js/ldavis.v3.0.0.js\", function(){\n",
              "        new LDAvis(\"#\" + \"ldavis_el3188135528532380240803752419\", ldavis_el3188135528532380240803752419_data);\n",
              "      });\n",
              "    });\n",
              "}else{\n",
              "    // require.js not available: dynamically load d3 & LDAvis\n",
              "    LDAvis_load_lib(\"https://d3js.org/d3.v5.js\", function(){\n",
              "         LDAvis_load_lib(\"https://cdn.jsdelivr.net/gh/bmabey/pyLDAvis@3.4.0/pyLDAvis/js/ldavis.v3.0.0.js\", function(){\n",
              "                 new LDAvis(\"#\" + \"ldavis_el3188135528532380240803752419\", ldavis_el3188135528532380240803752419_data);\n",
              "            })\n",
              "         });\n",
              "}\n",
              "</script>"
            ]
          },
          "metadata": {},
          "execution_count": 2
        }
      ]
    },
    {
      "cell_type": "markdown",
      "source": [
        "Como Interpretar a Visualização:\n",
        "\n",
        "Círculos grandes: Cada círculo é um tópico. Quanto maior o círculo, mais prevalente é o tópico na sua coleção de textos.\n",
        "\n",
        "Distância entre os círculos: Se os círculos estão muito distantes, os tópicos são bem diferentes. Se estão próximos, os tópicos compartilham muitas palavras ou conceitos.\n",
        "\n",
        "Palavras na barra lateral: Ao clicar em um círculo (tópico), a barra lateral mostra as palavras mais relevantes para aquele tópico. Isso ajuda a entender do que se trata a \"receita\""
      ],
      "metadata": {
        "id": "ymEQk50S1j7S"
      }
    }
  ]
}