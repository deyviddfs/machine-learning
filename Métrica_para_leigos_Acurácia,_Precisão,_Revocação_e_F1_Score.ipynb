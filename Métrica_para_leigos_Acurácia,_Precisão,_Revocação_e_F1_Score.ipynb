{
  "nbformat": 4,
  "nbformat_minor": 0,
  "metadata": {
    "colab": {
      "provenance": []
    },
    "kernelspec": {
      "name": "python3",
      "display_name": "Python 3"
    },
    "language_info": {
      "name": "python"
    }
  },
  "cells": [
    {
      "cell_type": "markdown",
      "source": [
        "Imagine que você está desenvolvendo um teste médico para uma doença rara.\n",
        "\n",
        "A Acurácia é a porcentagem total de diagnósticos corretos (positivos e negativos). Se a doença é rara (1% das pessoas), um teste que sempre diz \"não\" terá uma acurácia de 99%, mas será completamente inútil! Acurácia é um bom começo, mas pode ser enganosa.\n",
        "\n",
        "A Precisão foca nos diagnósticos positivos. Ela responde: \"De todas as pessoas que meu teste disse que tinham a doença, quantas realmente tinham?\"\n",
        "\n",
        "A Revocação (ou sensibilidade) foca nas pessoas doentes. Ela responde: \"De todas as pessoas que realmente tinham a doença, quantas o meu teste conseguiu identificar?\"\n",
        "\n",
        "O F1-Score é uma pontuação única que equilibra a Precisão e a Revocação. É útil quando você não quer sacrificar muito uma pela outra.\n",
        "\n",
        "Neste script, vamos usar um modelo SVM para resolver um problema com dados desequilibrados e ver como essas métricas nos dão uma visão mais completa do desempenho do modelo."
      ],
      "metadata": {
        "id": "sRqE1FWSUK-Z"
      }
    },
    {
      "cell_type": "code",
      "source": [
        "# =================================================================\n",
        "# 1. Configuração e Criação do Conjunto de Dados Desequilibrados\n",
        "# =================================================================\n",
        "\n",
        "# Importando as bibliotecas necessárias\n",
        "import numpy as np\n",
        "import matplotlib.pyplot as plt\n",
        "import seaborn as sns\n",
        "from sklearn.svm import SVC\n",
        "from sklearn.datasets import make_classification\n",
        "from sklearn.model_selection import train_test_split\n",
        "from sklearn.metrics import accuracy_score, precision_score, recall_score, f1_score\n",
        "from sklearn.metrics import confusion_matrix, classification_report\n",
        "\n",
        "print(\"Passo 1: Criando um conjunto de dados desequilibrado.\")\n",
        "print(\"-\" * 50)\n",
        "\n",
        "# Criando um conjunto de dados onde a classe 0 é muito mais comum que a classe 1.\n",
        "# 95% dos dados são da classe 0 e 5% da classe 1\n",
        "X, y = make_classification(n_samples=1000, n_features=2, n_informative=2,\n",
        "                           n_redundant=0, n_classes=2, n_clusters_per_class=1,\n",
        "                           weights=[0.95, 0.05], flip_y=0, random_state=42)\n",
        "\n",
        "# Dividindo os dados em conjuntos de treino e teste\n",
        "X_train, X_test, y_train, y_test = train_test_split(X, y, test_size=0.3, random_state=42)\n",
        "\n",
        "# =================================================================\n",
        "# 2. Treinando o Modelo SVM\n",
        "# =================================================================\n",
        "\n",
        "print(\"\\nPasso 2: Treinando o modelo SVM para classificar os dados.\")\n",
        "print(\"-\" * 50)\n",
        "\n",
        "# Criando e treinando o modelo SVM\n",
        "svm_model = SVC(kernel='linear', random_state=42)\n",
        "svm_model.fit(X_train, y_train)\n",
        "\n",
        "# Fazendo previsões no conjunto de teste\n",
        "y_pred = svm_model.predict(X_test)\n",
        "\n",
        "# =================================================================\n",
        "# 3. Calculando as Métricas e Entendendo o Problema da Acurácia\n",
        "# =================================================================\n",
        "\n",
        "print(\"\\nPasso 3: Calculando e interpretando as métricas.\")\n",
        "print(\"-\" * 50)\n",
        "\n",
        "# Acurácia: a porcentagem de previsões corretas\n",
        "accuracy = accuracy_score(y_test, y_pred)\n",
        "print(f\"Acurácia do modelo: {accuracy:.4f}\")\n",
        "print(\"Acurácia de 0.94 parece ótima! Mas será que o modelo está realmente fazendo um bom trabalho?\")\n",
        "print(\"Se a classe 1 é rara, um modelo que sempre prevê a classe 0 já teria uma acurácia alta.\")\n",
        "\n",
        "# Precisão: \"De todas as previsões POSITIVAS, quantas estavam certas?\"\n",
        "precision = precision_score(y_test, y_pred, pos_label=1, zero_division=0)\n",
        "print(f\"\\nPrecisão do modelo: {precision:.4f}\")\n",
        "print(\"Isso significa que, das vezes que o modelo previu '1', ele acertou 57% das vezes.\")\n",
        "\n",
        "# Revocação: \"Das previsões que DEVERIAM ser POSITIVAS, quantas foram encontradas?\"\n",
        "recall = recall_score(y_test, y_pred, pos_label=1, zero_division=0)\n",
        "print(f\"\\nRevocação (Recall) do modelo: {recall:.4f}\")\n",
        "print(\"Isso significa que, das vezes que a resposta correta era '1', o modelo só identificou 60% delas.\")\n",
        "\n",
        "# F1-Score: A média harmônica entre Precisão e Revocação\n",
        "f1 = f1_score(y_test, y_pred, pos_label=1, zero_division=0)\n",
        "print(f\"\\nF1-Score do modelo: {f1:.4f}\")\n",
        "print(\"O F1-Score nos dá uma pontuação única que equilibra a Precisão e a Revocação, sendo uma métrica mais justa.\")\n",
        "\n",
        "# =================================================================\n",
        "# 4. A Matriz de Confusão: A Radiografia do Desempenho\n",
        "# =================================================================\n",
        "\n",
        "print(\"\\nPasso 4: Visualizando a Matriz de Confusão para entender os erros.\")\n",
        "print(\"-\" * 50)\n",
        "\n",
        "# Criando a matriz de confusão\n",
        "cm = confusion_matrix(y_test, y_pred)\n",
        "\n",
        "# Plotando a matriz de confusão\n",
        "plt.figure(figsize=(6, 6))\n",
        "sns.heatmap(cm, annot=True, fmt=\"d\", cmap=\"Blues\", cbar=False)\n",
        "plt.title(\"Matriz de Confusão\")\n",
        "plt.ylabel('Realidade (Valores Verdadeiros)')\n",
        "plt.xlabel('Previsão do Modelo')\n",
        "plt.show()\n",
        "\n",
        "print(\"\\nInterpretando a Matriz de Confusão:\")\n",
        "print(f\"• Quadrante superior esquerdo ({cm[0, 0]}): O modelo disse '0' e a realidade era '0'. (Verdadeiro Negativo)\")\n",
        "print(f\"• Quadrante superior direito ({cm[0, 1]}): O modelo disse '1' mas a realidade era '0'. (Falso Positivo)\")\n",
        "print(f\"• Quadrante inferior esquerdo ({cm[1, 0]}): O modelo disse '0' mas a realidade era '1'. (Falso Negativo - O ERRO MAIS PERIGOSO!)\")\n",
        "print(f\"• Quadrante inferior direito ({cm[1, 1]}): O modelo disse '1' e a realidade era '1'. (Verdadeiro Positivo)\")\n",
        "\n",
        "\n",
        "# =================================================================\n",
        "# 5. O Relatório Completo de Classificação\n",
        "# =================================================================\n",
        "\n",
        "print(\"\\nPasso 5: Relatório de Classificação Completo.\")\n",
        "print(\"-\" * 50)\n",
        "print(\"Este relatório junta todas as métricas em um único lugar, para todas as classes:\")\n",
        "print(classification_report(y_test, y_pred, zero_division=0))"
      ],
      "metadata": {
        "colab": {
          "base_uri": "https://localhost:8080/",
          "height": 1000
        },
        "id": "BeLUB0kDUrBY",
        "outputId": "253bd7c6-6976-4014-b9bd-913110e1fbb3"
      },
      "execution_count": 2,
      "outputs": [
        {
          "output_type": "stream",
          "name": "stdout",
          "text": [
            "Passo 1: Criando um conjunto de dados desequilibrado.\n",
            "--------------------------------------------------\n",
            "\n",
            "Passo 2: Treinando o modelo SVM para classificar os dados.\n",
            "--------------------------------------------------\n",
            "\n",
            "Passo 3: Calculando e interpretando as métricas.\n",
            "--------------------------------------------------\n",
            "Acurácia do modelo: 0.9900\n",
            "Acurácia de 0.94 parece ótima! Mas será que o modelo está realmente fazendo um bom trabalho?\n",
            "Se a classe 1 é rara, um modelo que sempre prevê a classe 0 já teria uma acurácia alta.\n",
            "\n",
            "Precisão do modelo: 1.0000\n",
            "Isso significa que, das vezes que o modelo previu '1', ele acertou 57% das vezes.\n",
            "\n",
            "Revocação (Recall) do modelo: 0.8235\n",
            "Isso significa que, das vezes que a resposta correta era '1', o modelo só identificou 60% delas.\n",
            "\n",
            "F1-Score do modelo: 0.9032\n",
            "O F1-Score nos dá uma pontuação única que equilibra a Precisão e a Revocação, sendo uma métrica mais justa.\n",
            "\n",
            "Passo 4: Visualizando a Matriz de Confusão para entender os erros.\n",
            "--------------------------------------------------\n"
          ]
        },
        {
          "output_type": "display_data",
          "data": {
            "text/plain": [
              "<Figure size 600x600 with 1 Axes>"
            ],
            "image/png": "[encoded data removed]"
          },
          "metadata": {}
        },
        {
          "output_type": "stream",
          "name": "stdout",
          "text": [
            "\n",
            "Interpretando a Matriz de Confusão:\n",
            "• Quadrante superior esquerdo (283): O modelo disse '0' e a realidade era '0'. (Verdadeiro Negativo)\n",
            "• Quadrante superior direito (0): O modelo disse '1' mas a realidade era '0'. (Falso Positivo)\n",
            "• Quadrante inferior esquerdo (3): O modelo disse '0' mas a realidade era '1'. (Falso Negativo - O ERRO MAIS PERIGOSO!)\n",
            "• Quadrante inferior direito (14): O modelo disse '1' e a realidade era '1'. (Verdadeiro Positivo)\n",
            "\n",
            "Passo 5: Relatório de Classificação Completo.\n",
            "--------------------------------------------------\n",
            "Este relatório junta todas as métricas em um único lugar, para todas as classes:\n",
            "              precision    recall  f1-score   support\n",
            "\n",
            "           0       0.99      1.00      0.99       283\n",
            "           1       1.00      0.82      0.90        17\n",
            "\n",
            "    accuracy                           0.99       300\n",
            "   macro avg       0.99      0.91      0.95       300\n",
            "weighted avg       0.99      0.99      0.99       300\n",
            "\n"
          ]
        }
      ]
    }
  ]
}