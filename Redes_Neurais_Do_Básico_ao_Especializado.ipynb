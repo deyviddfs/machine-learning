{
  "nbformat": 4,
  "nbformat_minor": 0,
  "metadata": {
    "colab": {
      "provenance": []
    },
    "kernelspec": {
      "name": "python3",
      "display_name": "Python 3"
    },
    "language_info": {
      "name": "python"
    }
  },
  "cells": [
    {
      "cell_type": "markdown",
      "source": [
        "Imagine que as redes neurais são como especialistas em diferentes áreas. Cada especialista é bom para resolver um tipo específico de problema.\n",
        "\n",
        "Neste script, vamos conhecer 4 \"especialistas\" diferentes:\n",
        "\n",
        "FNN (Feedforward Neural Network): O especialista básico.\n",
        "\n",
        "CNN (Convolutional Neural Network): O especialista em visão (imagens).\n",
        "\n",
        "RNN (Recurrent Neural Network): O especialista em sequências (texto, tempo).\n",
        "\n",
        "Reinforcement Learning (RL): O especialista que aprende por tentativa e erro."
      ],
      "metadata": {
        "id": "7h8A2z60-jsk"
      }
    },
    {
      "cell_type": "markdown",
      "source": [
        "Parte 1: Redes Neurais de Fluxo Direto (FNN) - O Básico\n",
        "Analogia: O FNN é como um processo de decisão simples e unidirecional. As informações fluem de uma camada para a próxima, sem nunca voltar. É perfeito para problemas em que cada dado de entrada é independente do anterior.\n",
        "\n",
        "Caso de Uso: Classificar objetos com base em características fixas, como determinar se um e-mail é spam ou não."
      ],
      "metadata": {
        "id": "SULpG9Vg-3-L"
      }
    },
    {
      "cell_type": "code",
      "source": [
        "# =================================================================\n",
        "# 1. Configuração e Exemplo de FNN\n",
        "# =================================================================\n",
        "\n",
        "# Importando bibliotecas\n",
        "import tensorflow as tf\n",
        "from tensorflow import keras\n",
        "from sklearn.datasets import load_iris\n",
        "from sklearn.model_selection import train_test_split\n",
        "from sklearn.preprocessing import StandardScaler\n",
        "\n",
        "print(\"Parte 1: Exemplo de FNN com o dataset Iris\")\n",
        "print(\"-\" * 50)\n",
        "\n",
        "# Carregando um dataset clássico: a flor Iris\n",
        "iris = load_iris()\n",
        "X, y = iris.data, iris.target\n",
        "\n",
        "# Dividindo os dados para treino e teste\n",
        "X_train, X_test, y_train, y_test = train_test_split(X, y, test_size=0.2, random_state=42)\n",
        "\n",
        "# Normalizando os dados (uma boa prática)\n",
        "scaler = StandardScaler()\n",
        "X_train = scaler.fit_transform(X_train)\n",
        "X_test = scaler.transform(X_test)\n",
        "\n",
        "# Criando o modelo FNN\n",
        "model_fnn = keras.Sequential([\n",
        "    # Camada de entrada (input_shape define o formato dos dados)\n",
        "    keras.layers.Input(shape=(X_train.shape[1],)),\n",
        "    # Camada densa com 32 neurônios\n",
        "    keras.layers.Dense(32, activation='relu'),\n",
        "    # Camada de saída com 3 neurônios (uma para cada tipo de flor)\n",
        "    keras.layers.Dense(3, activation='softmax')\n",
        "])\n",
        "\n",
        "# Compilando e treinando o modelo\n",
        "model_fnn.compile(optimizer='adam',\n",
        "                  loss='sparse_categorical_crossentropy',\n",
        "                  metrics=['accuracy'])\n",
        "\n",
        "model_fnn.fit(X_train, y_train, epochs=10, verbose=0)\n",
        "loss, accuracy = model_fnn.evaluate(X_test, y_test, verbose=0)\n",
        "\n",
        "print(f\"Acurácia do modelo FNN: {accuracy:.4f}\\n\")"
      ],
      "metadata": {
        "colab": {
          "base_uri": "https://localhost:8080/"
        },
        "id": "N4N1fXpl-5l1",
        "outputId": "edeb10a4-ac55-437a-f71d-18f6a6a0b31b"
      },
      "execution_count": 3,
      "outputs": [
        {
          "output_type": "stream",
          "name": "stdout",
          "text": [
            "Parte 1: Exemplo de FNN com o dataset Iris\n",
            "--------------------------------------------------\n",
            "Acurácia do modelo FNN: 0.9000\n",
            "\n"
          ]
        }
      ]
    },
    {
      "cell_type": "markdown",
      "source": [
        "Parte 2: Redes Neurais Convolucionais (CNN) - Para o Mundo Visual\n",
        "Analogia: O CNN é como um detetive visual. Em vez de olhar para a imagem inteira de uma vez, ele escaneia a imagem em pequenas partes (como um microscópio) para encontrar padrões, como bordas, texturas e formas. Depois, ele junta esses padrões para identificar o que está na imagem.\n",
        "\n",
        "Caso de Uso: Classificação de imagens, detecção de objetos em fotos, reconhecimento facial."
      ],
      "metadata": {
        "id": "hFy6Ozp8_BtV"
      }
    },
    {
      "cell_type": "code",
      "source": [
        "# =================================================================\n",
        "# 2. Configuração e Exemplo de CNN\n",
        "# =================================================================\n",
        "\n",
        "import matplotlib.pyplot as plt\n",
        "\n",
        "print(\"Parte 2: Exemplo de CNN com o dataset Fashion-MNIST\")\n",
        "print(\"-\" * 50)\n",
        "\n",
        "# Carregando o dataset de imagens de roupas\n",
        "fashion_mnist = keras.datasets.fashion_mnist\n",
        "(train_images, train_labels), (test_images, test_labels) = fashion_mnist.load_data()\n",
        "\n",
        "# Preparando os dados para o modelo\n",
        "train_images = train_images.reshape(-1, 28, 28, 1) / 255.0\n",
        "test_images = test_images.reshape(-1, 28, 28, 1) / 255.0\n",
        "\n",
        "# Criando o modelo CNN\n",
        "model_cnn = keras.Sequential([\n",
        "    # Camada Convolucional: encontra padrões na imagem\n",
        "    keras.layers.Conv2D(32, (3, 3), activation='relu', input_shape=(28, 28, 1)),\n",
        "    # Camada de Pooling: reduz a imagem, mantendo apenas os padrões mais importantes\n",
        "    keras.layers.MaxPooling2D((2, 2)),\n",
        "    # Outra camada convolucional\n",
        "    keras.layers.Conv2D(64, (3, 3), activation='relu'),\n",
        "    keras.layers.MaxPooling2D((2, 2)),\n",
        "    # \"Achatando\" os dados para que possam ser processados por uma camada FNN\n",
        "    keras.layers.Flatten(),\n",
        "    # Camada densa\n",
        "    keras.layers.Dense(64, activation='relu'),\n",
        "    # Camada de saída com 10 classes (uma para cada tipo de roupa)\n",
        "    keras.layers.Dense(10, activation='softmax')\n",
        "])\n",
        "\n",
        "# Compilando e treinando o modelo\n",
        "model_cnn.compile(optimizer='adam',\n",
        "                  loss='sparse_categorical_crossentropy',\n",
        "                  metrics=['accuracy'])\n",
        "\n",
        "model_cnn.fit(train_images, train_labels, epochs=1, verbose=0) # Treinando por apenas 1 época para ser rápido\n",
        "\n",
        "loss, accuracy = model_cnn.evaluate(test_images, test_labels, verbose=0)\n",
        "print(f\"Acurácia do modelo CNN: {accuracy:.4f}\")\n",
        "\n",
        "# Mostrando um exemplo de imagem\n",
        "plt.figure()\n",
        "plt.imshow(test_images[0].reshape(28, 28), cmap='gray')\n",
        "plt.title(\"Exemplo de Imagem para a CNN\")\n",
        "plt.show()"
      ],
      "metadata": {
        "colab": {
          "base_uri": "https://localhost:8080/",
          "height": 704
        },
        "id": "nWuixcsa_EtA",
        "outputId": "01f899bc-2ea5-4c99-9955-6f404ea8bdfc"
      },
      "execution_count": 4,
      "outputs": [
        {
          "output_type": "stream",
          "name": "stdout",
          "text": [
            "Parte 2: Exemplo de CNN com o dataset Fashion-MNIST\n",
            "--------------------------------------------------\n",
            "Downloading data from https://storage.googleapis.com/tensorflow/tf-keras-datasets/train-labels-idx1-ubyte.gz\n",
            "\u001b[1m29515/29515\u001b[0m \u001b[32m━━━━━━━━━━━━━━━━━━━━\u001b[0m\u001b[37m\u001b[0m \u001b[1m0s\u001b[0m 0us/step\n",
            "Downloading data from https://storage.googleapis.com/tensorflow/tf-keras-datasets/train-images-idx3-ubyte.gz\n",
            "\u001b[1m26421880/26421880\u001b[0m \u001b[32m━━━━━━━━━━━━━━━━━━━━\u001b[0m\u001b[37m\u001b[0m \u001b[1m0s\u001b[0m 0us/step\n",
            "Downloading data from https://storage.googleapis.com/tensorflow/tf-keras-datasets/t10k-labels-idx1-ubyte.gz\n",
            "\u001b[1m5148/5148\u001b[0m \u001b[32m━━━━━━━━━━━━━━━━━━━━\u001b[0m\u001b[37m\u001b[0m \u001b[1m0s\u001b[0m 1us/step\n",
            "Downloading data from https://storage.googleapis.com/tensorflow/tf-keras-datasets/t10k-images-idx3-ubyte.gz\n",
            "\u001b[1m4422102/4422102\u001b[0m \u001b[32m━━━━━━━━━━━━━━━━━━━━\u001b[0m\u001b[37m\u001b[0m \u001b[1m0s\u001b[0m 0us/step\n"
          ]
        },
        {
          "output_type": "stream",
          "name": "stderr",
          "text": [
            "/usr/local/lib/python3.11/dist-packages/keras/src/layers/convolutional/base_conv.py:107: UserWarning: Do not pass an `input_shape`/`input_dim` argument to a layer. When using Sequential models, prefer using an `Input(shape)` object as the first layer in the model instead.\n",
            "  super().__init__(activity_regularizer=activity_regularizer, **kwargs)\n"
          ]
        },
        {
          "output_type": "stream",
          "name": "stdout",
          "text": [
            "Acurácia do modelo CNN: 0.8625\n"
          ]
        },
        {
          "output_type": "display_data",
          "data": {
            "text/plain": [
              "<Figure size 640x480 with 1 Axes>"
            ],
            "image/png": "[encoded data removed]"
          },
          "metadata": {}
        }
      ]
    },
    {
      "cell_type": "markdown",
      "source": [
        "Parte 3: Redes Neurais Recorrentes (RNN) e suas Evoluções - Para Sequências\n",
        "Analogia: O RNN é como uma pessoa que lê uma frase. Para entender o significado de uma palavra, ela precisa se lembrar das palavras anteriores. O RNN tem um \"laço de memória\" que permite que ele se lembre de informações passadas.\n",
        "\n",
        "Evolução (LSTM): Redes como a LSTM (Long Short-Term Memory) são uma evolução do RNN. Elas resolvem um problema comum dos RNNs: a dificuldade de se lembrar de informações que estão muito distantes no tempo (a chamada \"memória de longo prazo\"). A LSTM tem mecanismos para decidir o que lembrar e o que esquecer.\n",
        "\n",
        "Caso de Uso: Tradução de idiomas, predição de texto, análise de sentimento em resenhas de filmes."
      ],
      "metadata": {
        "id": "WsbkMuY0_nGy"
      }
    },
    {
      "cell_type": "code",
      "source": [
        "# =================================================================\n",
        "# 3. Configuração e Exemplo de RNN (LSTM)\n",
        "# =================================================================\n",
        "\n",
        "print(\"\\nParte 3: Exemplo de RNN (LSTM) com o dataset IMDB (resenhas de filmes)\")\n",
        "print(\"-\" * 50)\n",
        "\n",
        "# Carregando o dataset de resenhas de filmes (classificação de sentimento)\n",
        "imdb = keras.datasets.imdb\n",
        "(train_data, train_labels), (test_data, test_labels) = imdb.load_data(num_words=10000)\n",
        "\n",
        "# Preparando os dados: preenchendo as resenhas para que todas tenham o mesmo tamanho\n",
        "train_data = keras.preprocessing.sequence.pad_sequences(train_data, maxlen=256)\n",
        "test_data = keras.preprocessing.sequence.pad_sequences(test_data, maxlen=256)\n",
        "\n",
        "# Criando o modelo LSTM\n",
        "model_lstm = keras.Sequential([\n",
        "    # Camada de embedding: converte palavras em vetores de números\n",
        "    keras.layers.Embedding(10000, 16),\n",
        "    # Camada LSTM: a \"memória\" que processa a sequência de palavras\n",
        "    keras.layers.LSTM(32),\n",
        "    # Camada densa de saída\n",
        "    keras.layers.Dense(1, activation='sigmoid')\n",
        "])\n",
        "\n",
        "# Compilando e treinando o modelo\n",
        "model_lstm.compile(optimizer='adam',\n",
        "                   loss='binary_crossentropy',\n",
        "                   metrics=['accuracy'])\n",
        "\n",
        "model_lstm.fit(train_data, train_labels, epochs=1, verbose=0) # Treinando por apenas 1 época\n",
        "loss, accuracy = model_lstm.evaluate(test_data, test_labels, verbose=0)\n",
        "print(f\"Acurácia do modelo LSTM: {accuracy:.4f}\\n\")"
      ],
      "metadata": {
        "colab": {
          "base_uri": "https://localhost:8080/"
        },
        "id": "sRGwdLmW_vdo",
        "outputId": "72b56c3b-4547-40d5-9c2a-7dad6687ad0a"
      },
      "execution_count": 5,
      "outputs": [
        {
          "output_type": "stream",
          "name": "stdout",
          "text": [
            "\n",
            "Parte 3: Exemplo de RNN (LSTM) com o dataset IMDB (resenhas de filmes)\n",
            "--------------------------------------------------\n",
            "Downloading data from https://storage.googleapis.com/tensorflow/tf-keras-datasets/imdb.npz\n",
            "\u001b[1m17464789/17464789\u001b[0m \u001b[32m━━━━━━━━━━━━━━━━━━━━\u001b[0m\u001b[37m\u001b[0m \u001b[1m0s\u001b[0m 0us/step\n",
            "Acurácia do modelo LSTM: 0.8496\n",
            "\n"
          ]
        }
      ]
    },
    {
      "cell_type": "markdown",
      "source": [
        "Parte 4: Aprendizagem por Reforço (Reinforcement Learning) - O Mundo da Ação\n",
        "Analogia: O Reinforcement Learning (RL) é como um robô aprendendo a andar. Ele não é treinado com um dataset pré-existente. Em vez disso, ele explora um ambiente. Se ele cair, recebe uma \"punição\" (recompensa negativa). Se ele ficar de pé, recebe uma \"recompensa\". O objetivo é aprender a tomar as melhores ações para maximizar as recompensas ao longo do tempo.\n",
        "\n",
        "Diferença Fundamental: Diferente das outras redes neurais (que são exemplos de aprendizagem supervisionada), o RL não tem uma \"resposta correta\" no início. Ele descobre a resposta sozinho por tentativa e erro.\n",
        "\n",
        "Caso de Uso: Jogos de videogame, robótica, controle de tráfego, gestão de recursos."
      ],
      "metadata": {
        "id": "7Yj8pPPO_2y6"
      }
    },
    {
      "cell_type": "code",
      "source": [
        "# =================================================================\n",
        "# 4. Configuração e Exemplo de Reinforcement Learning (RL)\n",
        "# =================================================================\n",
        "\n",
        "# Para este exemplo, usaremos o Gym (agora Gymnasium), uma biblioteca padrão para RL\n",
        "# Ele simula ambientes de jogos para testar os agentes.\n",
        "\n",
        "# Para instalar o Gymnasium, use a linha abaixo no Colab:\n",
        "# !pip install gymnasium\n",
        "\n",
        "import gymnasium as gym\n",
        "import time\n",
        "from IPython.display import clear_output\n",
        "\n",
        "print(\"Parte 4: Exemplo de Reinforcement Learning com o jogo 'CartPole'\")\n",
        "print(\"-\" * 50)\n",
        "print(\"Neste jogo, um agente deve manter um mastro equilibrado em um carrinho.\\nEle recebe recompensas por cada passo que o mastro fica de pé.\")\n",
        "\n",
        "# Criando o ambiente do jogo CartPole\n",
        "env = gym.make('CartPole-v1', render_mode='rgb_array')\n",
        "observation, info = env.reset(seed=42)\n",
        "\n",
        "# Simulando um \"agente\" que toma decisões aleatórias\n",
        "# Na vida real, o agente seria um modelo que aprende a melhor ação\n",
        "num_episodes = 2\n",
        "for episode in range(num_episodes):\n",
        "    terminated = False\n",
        "    truncated = False\n",
        "    total_reward = 0\n",
        "\n",
        "    while not terminated and not truncated:\n",
        "        # O agente escolhe uma ação aleatória: 0 (mover para a esquerda) ou 1 (mover para a direita)\n",
        "        action = env.action_space.sample()\n",
        "\n",
        "        # O agente executa a ação e o ambiente retorna o resultado\n",
        "        observation, reward, terminated, truncated, info = env.step(action)\n",
        "        total_reward += reward\n",
        "\n",
        "        # Mostrando a simulação (somente funciona em ambientes interativos como o Jupyter)\n",
        "        # Se você estiver em um ambiente que não renderiza, você ainda pode ver os prints\n",
        "        # print(f\"Passo: {env.step_count}, Ação: {action}, Recompensa: {reward}\")\n",
        "\n",
        "    print(f\"Episódio {episode + 1} finalizado. Recompensa total: {total_reward}\")\n",
        "\n",
        "env.close()"
      ],
      "metadata": {
        "colab": {
          "base_uri": "https://localhost:8080/"
        },
        "id": "hYmTPBxqAGJJ",
        "outputId": "048edaf9-f492-4f34-b1f5-135501391aeb"
      },
      "execution_count": 6,
      "outputs": [
        {
          "output_type": "stream",
          "name": "stdout",
          "text": [
            "Parte 4: Exemplo de Reinforcement Learning com o jogo 'CartPole'\n",
            "--------------------------------------------------\n",
            "Neste jogo, um agente deve manter um mastro equilibrado em um carrinho.\n",
            "Ele recebe recompensas por cada passo que o mastro fica de pé.\n",
            "Episódio 1 finalizado. Recompensa total: 23.0\n",
            "Episódio 2 finalizado. Recompensa total: 0.0\n"
          ]
        },
        {
          "output_type": "stream",
          "name": "stderr",
          "text": [
            "/usr/local/lib/python3.11/dist-packages/gymnasium/envs/classic_control/cartpole.py:214: UserWarning: \u001b[33mWARN: You are calling 'step()' even though this environment has already returned terminated = True. You should always call 'reset()' once you receive 'terminated = True' -- any further steps are undefined behavior.\u001b[0m\n",
            "  logger.warn(\n"
          ]
        }
      ]
    }
  ]
}